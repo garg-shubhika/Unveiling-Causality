{
 "cells": [
  {
   "cell_type": "code",
   "execution_count": 1,
   "id": "13ca638b-6bb1-4687-a50f-811d9fcc96bd",
   "metadata": {},
   "outputs": [],
   "source": [
    "import pandas as pd\n",
    "import matplotlib.pyplot as plt\n",
    "import numpy as np\n",
    "from openai import OpenAI\n",
    "import os\n",
    "import re\n",
    "import time\n",
    "import csv\n",
    "from collections import Counter"
   ]
  },
  {
   "cell_type": "code",
   "execution_count": 2,
   "id": "696bdb79-75c3-4d28-a9c2-ee26654715fb",
   "metadata": {},
   "outputs": [],
   "source": [
    "def filter_dataframe_l(df, word_list):\n",
    "    # Constructing the dynamic condition based on the list of words\n",
    "    condition = df['Text'].apply(lambda x: all(re.search(re.escape(word), x, re.IGNORECASE) for word in word_list))\n",
    "\n",
    "    # Applying the condition to filter the DataFrame\n",
    "    filtered_df = df[condition]\n",
    "\n",
    "    return filtered_df"
   ]
  },
  {
   "cell_type": "code",
   "execution_count": 3,
   "id": "ebc87988-c7c5-4035-951e-39a47d6d1bd1",
   "metadata": {},
   "outputs": [],
   "source": [
    "def process_text(text):\n",
    "    # Characters to check for\n",
    "    punctuation_chars = [',', '\"', \"'\"]\n",
    "\n",
    "    # Iterate through each character in the text\n",
    "    processed_text = \"\"\n",
    "    for char in text:\n",
    "        # Add spaces around specified punctuation characters\n",
    "        if char in punctuation_chars:\n",
    "            processed_text += f' \\{char} '\n",
    "        else:\n",
    "            processed_text += char\n",
    "    text = processed_text\n",
    "    start_index = 0\n",
    "    end_index = len(text)\n",
    "\n",
    "    # Find the index of the first letter, <, or >\n",
    "    for i, char in enumerate(text):\n",
    "        if char.isalpha() or char == '<' or char == '>'or text[i] == '.':\n",
    "            start_index = i\n",
    "            break\n",
    "\n",
    "    # Find the index of the last letter, <, or >\n",
    "    for i in range(len(text) - 1, -1, -1):\n",
    "        if text[i].isalpha() or text[i] == '<' or text[i] == '>'or text[i] == '.':\n",
    "            end_index = i + 1\n",
    "            break\n",
    "\n",
    "    # Extract the substring between the first and last letters\n",
    "    result = text[start_index:end_index].strip()\n",
    "\n",
    "    result += '.'\n",
    "    result = \"['{}']\".format(result)\n",
    "\n",
    "    return result"
   ]
  },
  {
   "cell_type": "code",
   "execution_count": 4,
   "id": "5cef9b62-116f-494a-9332-00046dfd5b2a",
   "metadata": {},
   "outputs": [],
   "source": [
    "def remove_wrapping(text):\n",
    "    if isinstance(text, str) and text.startswith(\"['\") and text.endswith(\"']\"):\n",
    "        return text[2:-2]  # Remove the first two and last two characters\n",
    "    else:\n",
    "        return text"
   ]
  },
  {
   "cell_type": "code",
   "execution_count": null,
   "id": "d3700abd-4eb7-4a2b-bd46-fab6fb9e0e2f",
   "metadata": {},
   "outputs": [],
   "source": [
    "def remove_non_quoted_chars(text):\n",
    "    #in_single_quote = False\n",
    "    result = text.replace('[', '').replace(']', '')\n",
    "    '''\n",
    "    for char in result:\n",
    "        if char == ' ' and in_single_quote:\n",
    "            result += \"\\'\"\n",
    "            in_single_quote = False\n",
    "        elif char == \"'\":\n",
    "            in_single_quote = True\n",
    "            result += \"\\'\"\n",
    "        else:\n",
    "            result += char\n",
    "    in_single_quote = False\n",
    "    for char in result:\n",
    "        if char == ' ' and in_single_quote:\n",
    "            result += '\\\"'\n",
    "            in_single_quote = False\n",
    "        elif char == '\"':\n",
    "            in_single_quote = True\n",
    "            result += '\\\"'\n",
    "        else:\n",
    "            result += char\n",
    "    '''\n",
    "    result.replace(\" ' \", \"@z\")\n",
    "    pattern = r'\\'(.*?)\\'|\\\"(.*?)\\\"'\n",
    "    matches = re.findall(pattern, result)\n",
    "    result_list = [f\"'{match[0]}'\" if match[0] else f'\"{match[1]}\"' for match in matches]\n",
    "    result_f = ', '.join(result_list)\n",
    "    result_f = '[' + result_f + ']'\n",
    "    result_f.replace(\"@z\", \" ' \")\n",
    "    return result_f"
   ]
  },
  {
   "cell_type": "code",
   "execution_count": null,
   "id": "9010d220-d754-4f58-a0c0-b0ee26d3ea1c",
   "metadata": {},
   "outputs": [],
   "source": [
    "def remove_non_bracket_chars(text):\n",
    "    # Extract characters between brackets using a regular expression\n",
    "    #text = text.replace('[\\'', '').replace(']\\'', '')\n",
    "    #extracted_chars = re.findall(r'\\[([^\\]]*)\\]', text)\n",
    "    result = text.replace('[', '').replace(']', '')\n",
    "    # Concatenate the extracted characters to form the result\n",
    "    result = '[' + result + ']'\n",
    "    return result"
   ]
  },
  {
   "cell_type": "code",
   "execution_count": 5,
   "id": "22ba18d8-47df-4932-9691-7d5a3cc71b1b",
   "metadata": {},
   "outputs": [],
   "source": [
    "df = pd.read_csv('CNC_synth_copy2.csv')\n",
    "df['Text'] = df['Text'].apply(lambda x: process_text(x))\n",
    "df_o = pd.read_csv('CausalNewsCorpus/data/V2/train_subtask2_grouped.csv')"
   ]
  },
  {
   "cell_type": "code",
   "execution_count": 6,
   "id": "2b062b1d-0a65-49bd-b758-191a418af406",
   "metadata": {},
   "outputs": [],
   "source": [
    "filter_list = ['<ARG0>','<ARG1>','<SIG0>','</ARG0>','</ARG1>','</SIG0>']\n",
    "filter_list2 = ['<ARG0>','<ARG1>','</ARG0>','</ARG1>']"
   ]
  },
  {
   "cell_type": "code",
   "execution_count": null,
   "id": "c1c031f7-ba19-414c-a8f8-046edd14d813",
   "metadata": {},
   "outputs": [],
   "source": [
    "df_eda = pd.read_csv('eda_2_output_transformed_train_subtask2.csv')\n",
    "df_eda = df_eda[~df_eda['causal_text_w_pairs'].str.contains('\\'s', case=False, na=False)]\n",
    "df_eda = df_eda[~df_eda['causal_text_w_pairs'].str.contains(' \\' ', case=False, na=False)]\n",
    "df_eda['text'] = df_eda['text'].apply(remove_wrapping)\n",
    "df_eda = replace_tokens(df_eda,'causal_text_w_pairs')\n",
    "df_eda['causal_text_w_pairs'] = df_eda['causal_text_w_pairs'].apply(remove_non_bracket_chars)\n",
    "df_eda['causal_text_w_pairs'] = df_eda['causal_text_w_pairs'].apply(remove_non_quoted_chars)\n",
    "\n"
   ]
  },
  {
   "cell_type": "code",
   "execution_count": null,
   "id": "c14d1331-3869-4c0e-88cf-5059341b5bfc",
   "metadata": {},
   "outputs": [],
   "source": [
    "df_t = df_eda[df_eda['num_rs'] == 1].copy()\n",
    "df_t.reset_index(drop=True, inplace=True)\n",
    "df_t = df_t[~df_t['causal_text_w_pairs'].str.contains('<sig1>')].copy()\n",
    "df_t.reset_index(drop=True, inplace=True)\n",
    "eda_result_t_df = pd.concat([df_o, df_t], ignore_index=True)\n",
    "eda_result_t_df.to_csv('CNC_eda_o+orig_output55.csv', index=None)"
   ]
  }
 ],
 "metadata": {
  "kernelspec": {
   "display_name": "Python 3 (ipykernel)",
   "language": "python",
   "name": "python3"
  },
  "language_info": {
   "codemirror_mode": {
    "name": "ipython",
    "version": 3
   },
   "file_extension": ".py",
   "mimetype": "text/x-python",
   "name": "python",
   "nbconvert_exporter": "python",
   "pygments_lexer": "ipython3",
   "version": "3.9.16"
  }
 },
 "nbformat": 4,
 "nbformat_minor": 5
}
