{
 "cells": [
  {
   "cell_type": "code",
   "execution_count": 1,
   "id": "68bfc3a6-b632-4038-9a5e-30bc724d3fd1",
   "metadata": {},
   "outputs": [],
   "source": [
    "import pandas as pd\n",
    "import matplotlib.pyplot as plt\n",
    "import numpy as np\n",
    "from openai import OpenAI\n",
    "import os\n",
    "import re\n",
    "import time\n",
    "import csv\n",
    "from collections import Counter"
   ]
  },
  {
   "cell_type": "code",
   "execution_count": 2,
   "id": "3d1704fe-8849-4ba3-9c7d-5f2ed081194f",
   "metadata": {},
   "outputs": [],
   "source": [
    "df_no_sig = pd.read_csv('CNC_chatgpt+orig_output_no_sig65.csv')\n",
    "df_EDA = pd.read_csv('CNC_eda_o+orig_output55.csv')\n",
    "df_chatgpt = pd.read_csv('CNC_chatgpt+orig_output_no_space6.csv')"
   ]
  },
  {
   "cell_type": "code",
   "execution_count": 4,
   "id": "3cfbda36-0945-45fb-a28a-370d6fd50777",
   "metadata": {},
   "outputs": [],
   "source": [
    "#the reason that the sub_dfs start at 3075 is that is where the non_original data starts in the dataset\n",
    "sub_df1 = df_EDA.iloc[3075:].copy()\n",
    "sub_df3 = df_chatgpt.iloc[3075:].copy()\n",
    "sub_df2 = df_no_sig.iloc[3075:].copy()"
   ]
  },
  {
   "cell_type": "code",
   "execution_count": 5,
   "id": "9b9831d1-b8fe-4902-bd38-762bf160ffcb",
   "metadata": {},
   "outputs": [],
   "source": [
    "com_df = pd.concat([sub_df3,sub_df1,sub_df2], ignore_index=True)"
   ]
  },
  {
   "cell_type": "code",
   "execution_count": 6,
   "id": "befea772-441f-4539-9cd9-d778b664937d",
   "metadata": {},
   "outputs": [],
   "source": [
    "com_df['sent_id'] = range(10000, 10000 + len(com_df))\n",
    "com_df['doc_id'] = [f'train_{i}_{j}' for i, j in zip(range(1000, 1000 + len(com_df)), range(10000, 10000 + len(com_df)))]\n",
    "\n",
    "# Adding a new column 'index' with values based on variables i, j, k\n",
    "com_df['index'] = [f'cnc_train_{i}_{j}_{k}_10' for i, j, k in zip(range(100, 100 + len(com_df)), range(1000, 1000 + len(com_df)), range(10000, 10000 + len(com_df)))]\n"
   ]
  },
  {
   "cell_type": "code",
   "execution_count": null,
   "id": "a54cba5c-419f-4728-abab-79b3b6eb9fd0",
   "metadata": {},
   "outputs": [],
   "source": [
    "final_result = pd.concat([df_o, com_df], ignore_index=True)\n",
    "final_result.to_csv('EDA+CNC_chatgpt+orig2.csv', index=None)"
   ]
  }
 ],
 "metadata": {
  "kernelspec": {
   "display_name": "Python 3 (ipykernel)",
   "language": "python",
   "name": "python3"
  },
  "language_info": {
   "codemirror_mode": {
    "name": "ipython",
    "version": 3
   },
   "file_extension": ".py",
   "mimetype": "text/x-python",
   "name": "python",
   "nbconvert_exporter": "python",
   "pygments_lexer": "ipython3",
   "version": "3.9.16"
  }
 },
 "nbformat": 4,
 "nbformat_minor": 5
}
